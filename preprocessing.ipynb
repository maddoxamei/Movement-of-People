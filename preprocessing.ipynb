{
 "cells": [
  {
   "cell_type": "markdown",
   "id": "92bde73a-e94a-4f87-bbe1-248ac038d128",
   "metadata": {},
   "source": [
    "# Deniz's Notes"
   ]
  },
  {
   "cell_type": "markdown",
   "id": "917a96b9-30c4-4ff9-8697-694ac1b4b549",
   "metadata": {},
   "source": [
    "* 4.5 million from April to September 2014\n",
    "* 14.3 million from January to June 2015 "
   ]
  },
  {
   "cell_type": "code",
   "execution_count": 1,
   "id": "0f6ea5a1-8dbb-43b3-be6e-68ada902f7d7",
   "metadata": {},
   "outputs": [],
   "source": [
    "#pip install seaborn"
   ]
  },
  {
   "cell_type": "code",
   "execution_count": 2,
   "id": "66fb7ece-37f2-4651-b650-d6c9db1dd61e",
   "metadata": {},
   "outputs": [],
   "source": [
    "import pandas as pd\n",
    "import matplotlib.pyplot as plt\n",
    "from matplotlib import cm\n",
    "import seaborn as sns\n",
    "import datetime\n",
    "from matplotlib.ticker import ScalarFormatter, FormatStrFormatter"
   ]
  },
  {
   "cell_type": "code",
   "execution_count": 3,
   "id": "76f27848-739b-4090-913f-58f9798ba125",
   "metadata": {},
   "outputs": [],
   "source": [
    "%matplotlib inline"
   ]
  },
  {
   "cell_type": "code",
   "execution_count": 4,
   "id": "725799f6-981b-44cd-9adf-cd8e52d2f94a",
   "metadata": {},
   "outputs": [
    {
     "data": {
      "text/plain": [
       "'/home/dkardes/uber'"
      ]
     },
     "execution_count": 4,
     "metadata": {},
     "output_type": "execute_result"
    }
   ],
   "source": [
    "import os\n",
    "cwd = os.getcwd()\n",
    "cwd"
   ]
  },
  {
   "cell_type": "code",
   "execution_count": 5,
   "id": "7e634c35-b173-46ce-987b-16af45b40eea",
   "metadata": {},
   "outputs": [
    {
     "data": {
      "text/plain": [
       "True"
      ]
     },
     "execution_count": 5,
     "metadata": {},
     "output_type": "execute_result"
    }
   ],
   "source": [
    "os.path.exists(\"/home/dkardes/uber/Uber-Jan-Feb-FOIL.csv\")"
   ]
  },
  {
   "cell_type": "code",
   "execution_count": 6,
   "id": "8e6468f2-3125-4079-933a-e6ebd0851cf0",
   "metadata": {},
   "outputs": [
    {
     "data": {
      "text/html": [
       "<div>\n",
       "<style scoped>\n",
       "    .dataframe tbody tr th:only-of-type {\n",
       "        vertical-align: middle;\n",
       "    }\n",
       "\n",
       "    .dataframe tbody tr th {\n",
       "        vertical-align: top;\n",
       "    }\n",
       "\n",
       "    .dataframe thead th {\n",
       "        text-align: right;\n",
       "    }\n",
       "</style>\n",
       "<table border=\"1\" class=\"dataframe\">\n",
       "  <thead>\n",
       "    <tr style=\"text-align: right;\">\n",
       "      <th></th>\n",
       "      <th>Dispatching_base_num</th>\n",
       "      <th>Pickup_date</th>\n",
       "      <th>Affiliated_base_num</th>\n",
       "      <th>locationID</th>\n",
       "    </tr>\n",
       "  </thead>\n",
       "  <tbody>\n",
       "    <tr>\n",
       "      <th>0</th>\n",
       "      <td>B02617</td>\n",
       "      <td>2015-05-17 09:47:00</td>\n",
       "      <td>B02617</td>\n",
       "      <td>141</td>\n",
       "    </tr>\n",
       "    <tr>\n",
       "      <th>1</th>\n",
       "      <td>B02617</td>\n",
       "      <td>2015-05-17 09:47:00</td>\n",
       "      <td>B02617</td>\n",
       "      <td>65</td>\n",
       "    </tr>\n",
       "    <tr>\n",
       "      <th>2</th>\n",
       "      <td>B02617</td>\n",
       "      <td>2015-05-17 09:47:00</td>\n",
       "      <td>B02617</td>\n",
       "      <td>100</td>\n",
       "    </tr>\n",
       "    <tr>\n",
       "      <th>3</th>\n",
       "      <td>B02617</td>\n",
       "      <td>2015-05-17 09:47:00</td>\n",
       "      <td>B02774</td>\n",
       "      <td>80</td>\n",
       "    </tr>\n",
       "    <tr>\n",
       "      <th>4</th>\n",
       "      <td>B02617</td>\n",
       "      <td>2015-05-17 09:47:00</td>\n",
       "      <td>B02617</td>\n",
       "      <td>90</td>\n",
       "    </tr>\n",
       "  </tbody>\n",
       "</table>\n",
       "</div>"
      ],
      "text/plain": [
       "  Dispatching_base_num          Pickup_date Affiliated_base_num  locationID\n",
       "0               B02617  2015-05-17 09:47:00              B02617         141\n",
       "1               B02617  2015-05-17 09:47:00              B02617          65\n",
       "2               B02617  2015-05-17 09:47:00              B02617         100\n",
       "3               B02617  2015-05-17 09:47:00              B02774          80\n",
       "4               B02617  2015-05-17 09:47:00              B02617          90"
      ]
     },
     "execution_count": 6,
     "metadata": {},
     "output_type": "execute_result"
    }
   ],
   "source": [
    "df15 = pd.read_csv(\"~/uber/uber-trip-data/uber-raw-data-janjune-15.csv\")\n",
    "df15.head()"
   ]
  },
  {
   "cell_type": "code",
   "execution_count": 7,
   "id": "7f674fea-8e0b-45b5-9482-f9cdcfe35789",
   "metadata": {},
   "outputs": [
    {
     "data": {
      "text/plain": [
       "(14270479, 4)"
      ]
     },
     "execution_count": 7,
     "metadata": {},
     "output_type": "execute_result"
    }
   ],
   "source": [
    "df15.shape"
   ]
  },
  {
   "cell_type": "code",
   "execution_count": 8,
   "id": "a2732cde-9438-47dc-b9c7-b175c1343301",
   "metadata": {},
   "outputs": [
    {
     "data": {
      "text/plain": [
       "Dispatching_base_num    False\n",
       "Pickup_date             False\n",
       "Affiliated_base_num      True\n",
       "locationID              False\n",
       "dtype: bool"
      ]
     },
     "execution_count": 8,
     "metadata": {},
     "output_type": "execute_result"
    }
   ],
   "source": [
    "df15.isnull().any()"
   ]
  },
  {
   "cell_type": "code",
   "execution_count": 9,
   "id": "0d2f0421-a1ca-4f0b-bbfa-1c22dcdf64e7",
   "metadata": {},
   "outputs": [
    {
     "data": {
      "text/plain": [
       "Dispatching_base_num         0\n",
       "Pickup_date                  0\n",
       "Affiliated_base_num     162195\n",
       "locationID                   0\n",
       "dtype: int64"
      ]
     },
     "execution_count": 9,
     "metadata": {},
     "output_type": "execute_result"
    }
   ],
   "source": [
    "df15.isnull().sum()"
   ]
  },
  {
   "cell_type": "code",
   "execution_count": 10,
   "id": "d9c18216-a39b-4ecf-929e-d0ed9eede136",
   "metadata": {},
   "outputs": [],
   "source": [
    "df15 = df15.dropna()"
   ]
  },
  {
   "cell_type": "code",
   "execution_count": 11,
   "id": "f21148e3-bc66-49b2-a704-bdd02be6a329",
   "metadata": {},
   "outputs": [
    {
     "data": {
      "text/plain": [
       "Dispatching_base_num    0\n",
       "Pickup_date             0\n",
       "Affiliated_base_num     0\n",
       "locationID              0\n",
       "dtype: int64"
      ]
     },
     "execution_count": 11,
     "metadata": {},
     "output_type": "execute_result"
    }
   ],
   "source": [
    "df15.isnull().sum()"
   ]
  },
  {
   "cell_type": "code",
   "execution_count": 12,
   "id": "03f8583d-51df-4869-ac6e-f7785026633b",
   "metadata": {},
   "outputs": [
    {
     "data": {
      "text/plain": [
       "(14108284, 4)"
      ]
     },
     "execution_count": 12,
     "metadata": {},
     "output_type": "execute_result"
    }
   ],
   "source": [
    "df15.shape"
   ]
  },
  {
   "cell_type": "code",
   "execution_count": 13,
   "id": "0291a5c0-ce8e-4974-8901-2ae786548c64",
   "metadata": {},
   "outputs": [
    {
     "data": {
      "text/plain": [
       "14108284"
      ]
     },
     "execution_count": 13,
     "metadata": {},
     "output_type": "execute_result"
    }
   ],
   "source": [
    "14270479-162195"
   ]
  },
  {
   "cell_type": "code",
   "execution_count": 14,
   "id": "3c7c1774-3f74-45fd-b349-cd14f7617bbf",
   "metadata": {},
   "outputs": [
    {
     "data": {
      "text/html": [
       "<div>\n",
       "<style scoped>\n",
       "    .dataframe tbody tr th:only-of-type {\n",
       "        vertical-align: middle;\n",
       "    }\n",
       "\n",
       "    .dataframe tbody tr th {\n",
       "        vertical-align: top;\n",
       "    }\n",
       "\n",
       "    .dataframe thead th {\n",
       "        text-align: right;\n",
       "    }\n",
       "</style>\n",
       "<table border=\"1\" class=\"dataframe\">\n",
       "  <thead>\n",
       "    <tr style=\"text-align: right;\">\n",
       "      <th></th>\n",
       "      <th>LocationID</th>\n",
       "      <th>Borough</th>\n",
       "      <th>Zone</th>\n",
       "    </tr>\n",
       "  </thead>\n",
       "  <tbody>\n",
       "    <tr>\n",
       "      <th>0</th>\n",
       "      <td>1</td>\n",
       "      <td>EWR</td>\n",
       "      <td>Newark Airport</td>\n",
       "    </tr>\n",
       "    <tr>\n",
       "      <th>1</th>\n",
       "      <td>2</td>\n",
       "      <td>Queens</td>\n",
       "      <td>Jamaica Bay</td>\n",
       "    </tr>\n",
       "    <tr>\n",
       "      <th>2</th>\n",
       "      <td>3</td>\n",
       "      <td>Bronx</td>\n",
       "      <td>Allerton/Pelham Gardens</td>\n",
       "    </tr>\n",
       "    <tr>\n",
       "      <th>3</th>\n",
       "      <td>4</td>\n",
       "      <td>Manhattan</td>\n",
       "      <td>Alphabet City</td>\n",
       "    </tr>\n",
       "    <tr>\n",
       "      <th>4</th>\n",
       "      <td>5</td>\n",
       "      <td>Staten Island</td>\n",
       "      <td>Arden Heights</td>\n",
       "    </tr>\n",
       "    <tr>\n",
       "      <th>...</th>\n",
       "      <td>...</td>\n",
       "      <td>...</td>\n",
       "      <td>...</td>\n",
       "    </tr>\n",
       "    <tr>\n",
       "      <th>260</th>\n",
       "      <td>261</td>\n",
       "      <td>Manhattan</td>\n",
       "      <td>World Trade Center</td>\n",
       "    </tr>\n",
       "    <tr>\n",
       "      <th>261</th>\n",
       "      <td>262</td>\n",
       "      <td>Manhattan</td>\n",
       "      <td>Yorkville East</td>\n",
       "    </tr>\n",
       "    <tr>\n",
       "      <th>262</th>\n",
       "      <td>263</td>\n",
       "      <td>Manhattan</td>\n",
       "      <td>Yorkville West</td>\n",
       "    </tr>\n",
       "    <tr>\n",
       "      <th>263</th>\n",
       "      <td>264</td>\n",
       "      <td>Unknown</td>\n",
       "      <td>Unknown</td>\n",
       "    </tr>\n",
       "    <tr>\n",
       "      <th>264</th>\n",
       "      <td>265</td>\n",
       "      <td>Unknown</td>\n",
       "      <td>Unknown</td>\n",
       "    </tr>\n",
       "  </tbody>\n",
       "</table>\n",
       "<p>265 rows × 3 columns</p>\n",
       "</div>"
      ],
      "text/plain": [
       "     LocationID        Borough                     Zone\n",
       "0             1            EWR           Newark Airport\n",
       "1             2         Queens              Jamaica Bay\n",
       "2             3          Bronx  Allerton/Pelham Gardens\n",
       "3             4      Manhattan            Alphabet City\n",
       "4             5  Staten Island            Arden Heights\n",
       "..          ...            ...                      ...\n",
       "260         261      Manhattan       World Trade Center\n",
       "261         262      Manhattan           Yorkville East\n",
       "262         263      Manhattan           Yorkville West\n",
       "263         264        Unknown                  Unknown\n",
       "264         265        Unknown                  Unknown\n",
       "\n",
       "[265 rows x 3 columns]"
      ]
     },
     "execution_count": 14,
     "metadata": {},
     "output_type": "execute_result"
    }
   ],
   "source": [
    "# This file shows the taxi `Zone` and `Borough` for each `locationID`\n",
    "taxi_zone = pd.read_csv(\"~/uber/uber-trip-data/taxi-zone-lookup.csv\")\n",
    "taxi_zone\n"
   ]
  },
  {
   "cell_type": "code",
   "execution_count": 15,
   "id": "1f0a976c-7137-427b-8d3e-834b511d85ad",
   "metadata": {},
   "outputs": [
    {
     "data": {
      "text/plain": [
       "Borough\n",
       "Bronx            43\n",
       "Brooklyn         61\n",
       "EWR               1\n",
       "Manhattan        69\n",
       "Queens           69\n",
       "Staten Island    20\n",
       "Unknown           2\n",
       "Name: Zone, dtype: int64"
      ]
     },
     "execution_count": 15,
     "metadata": {},
     "output_type": "execute_result"
    }
   ],
   "source": [
    "taxi_zone.groupby([\"Borough\"])[\"Zone\"].count()"
   ]
  },
  {
   "cell_type": "markdown",
   "id": "bfe823ad-be76-4c0e-8852-485727baf738",
   "metadata": {},
   "source": [
    "### BaseCode | Base Name\n",
    "    -------|---------\n",
    "    B02512 | Unter\n",
    "    B02598 | Hinter\n",
    "    B02617 | Weiter\n",
    "    B02682 | Schmecken\n",
    "    B02764 | Danach-NY\n",
    "    B02765 | Grun\n",
    "    B02835 | Dreist\n",
    "    B02836 | Drinnen"
   ]
  },
  {
   "cell_type": "code",
   "execution_count": 16,
   "id": "d0d39733-fcf1-4fe3-a6d5-d87dd695383d",
   "metadata": {},
   "outputs": [],
   "source": [
    "#Upload and group the files\n",
    "files_2014 =['~/uber/uber-trip-data/uber-raw-data-apr14.csv',\n",
    "                '~/uber/uber-trip-data/uber-raw-data-may14.csv',\n",
    "                '~/uber/uber-trip-data/uber-raw-data-jun14.csv',\n",
    "                '~/uber/uber-trip-data/uber-raw-data-jul14.csv',\n",
    "                '~/uber/uber-trip-data/uber-raw-data-aug14.csv',\n",
    "                '~/uber/uber-trip-data/uber-raw-data-sep14.csv']\n",
    "df14 = pd.DataFrame()\n",
    "for file in files_2014:\n",
    "    df = pd.read_csv(file,encoding='utf-8')\n",
    "    df14 = pd.concat([df,df14])"
   ]
  },
  {
   "cell_type": "code",
   "execution_count": 17,
   "id": "9de1589b-e5d6-4337-96dc-4e3295927e04",
   "metadata": {},
   "outputs": [
    {
     "data": {
      "text/plain": [
       "(4534327, 4)"
      ]
     },
     "execution_count": 17,
     "metadata": {},
     "output_type": "execute_result"
    }
   ],
   "source": [
    "df14.shape"
   ]
  },
  {
   "cell_type": "code",
   "execution_count": 18,
   "id": "54e0aee4-560c-4013-95c5-9a16210c8b3c",
   "metadata": {},
   "outputs": [
    {
     "data": {
      "text/html": [
       "<div>\n",
       "<style scoped>\n",
       "    .dataframe tbody tr th:only-of-type {\n",
       "        vertical-align: middle;\n",
       "    }\n",
       "\n",
       "    .dataframe tbody tr th {\n",
       "        vertical-align: top;\n",
       "    }\n",
       "\n",
       "    .dataframe thead th {\n",
       "        text-align: right;\n",
       "    }\n",
       "</style>\n",
       "<table border=\"1\" class=\"dataframe\">\n",
       "  <thead>\n",
       "    <tr style=\"text-align: right;\">\n",
       "      <th></th>\n",
       "      <th>Date/Time</th>\n",
       "      <th>Lat</th>\n",
       "      <th>Lon</th>\n",
       "      <th>Base</th>\n",
       "    </tr>\n",
       "  </thead>\n",
       "  <tbody>\n",
       "    <tr>\n",
       "      <th>0</th>\n",
       "      <td>9/1/2014 0:01:00</td>\n",
       "      <td>40.2201</td>\n",
       "      <td>-74.0021</td>\n",
       "      <td>B02512</td>\n",
       "    </tr>\n",
       "    <tr>\n",
       "      <th>1</th>\n",
       "      <td>9/1/2014 0:01:00</td>\n",
       "      <td>40.7500</td>\n",
       "      <td>-74.0027</td>\n",
       "      <td>B02512</td>\n",
       "    </tr>\n",
       "    <tr>\n",
       "      <th>2</th>\n",
       "      <td>9/1/2014 0:03:00</td>\n",
       "      <td>40.7559</td>\n",
       "      <td>-73.9864</td>\n",
       "      <td>B02512</td>\n",
       "    </tr>\n",
       "    <tr>\n",
       "      <th>3</th>\n",
       "      <td>9/1/2014 0:06:00</td>\n",
       "      <td>40.7450</td>\n",
       "      <td>-73.9889</td>\n",
       "      <td>B02512</td>\n",
       "    </tr>\n",
       "    <tr>\n",
       "      <th>4</th>\n",
       "      <td>9/1/2014 0:11:00</td>\n",
       "      <td>40.8145</td>\n",
       "      <td>-73.9444</td>\n",
       "      <td>B02512</td>\n",
       "    </tr>\n",
       "  </tbody>\n",
       "</table>\n",
       "</div>"
      ],
      "text/plain": [
       "          Date/Time      Lat      Lon    Base\n",
       "0  9/1/2014 0:01:00  40.2201 -74.0021  B02512\n",
       "1  9/1/2014 0:01:00  40.7500 -74.0027  B02512\n",
       "2  9/1/2014 0:03:00  40.7559 -73.9864  B02512\n",
       "3  9/1/2014 0:06:00  40.7450 -73.9889  B02512\n",
       "4  9/1/2014 0:11:00  40.8145 -73.9444  B02512"
      ]
     },
     "execution_count": 18,
     "metadata": {},
     "output_type": "execute_result"
    }
   ],
   "source": [
    "df14.head()"
   ]
  },
  {
   "cell_type": "code",
   "execution_count": 19,
   "id": "2a14565f-9dcd-4d88-aa26-fa628ad37427",
   "metadata": {},
   "outputs": [
    {
     "name": "stdout",
     "output_type": "stream",
     "text": [
      "<class 'pandas.core.frame.DataFrame'>\n",
      "Int64Index: 4534327 entries, 0 to 564515\n",
      "Data columns (total 4 columns):\n",
      " #   Column     Dtype  \n",
      "---  ------     -----  \n",
      " 0   Date/Time  object \n",
      " 1   Lat        float64\n",
      " 2   Lon        float64\n",
      " 3   Base       object \n",
      "dtypes: float64(2), object(2)\n",
      "memory usage: 173.0+ MB\n"
     ]
    }
   ],
   "source": [
    "df14.info()"
   ]
  },
  {
   "cell_type": "code",
   "execution_count": 20,
   "id": "34e83ad2-a69b-4f9f-b164-6bd8732935b3",
   "metadata": {},
   "outputs": [
    {
     "data": {
      "text/plain": [
       "Date/Time    False\n",
       "Lat          False\n",
       "Lon          False\n",
       "Base         False\n",
       "dtype: bool"
      ]
     },
     "execution_count": 20,
     "metadata": {},
     "output_type": "execute_result"
    }
   ],
   "source": [
    "df14.isnull().any()"
   ]
  },
  {
   "cell_type": "code",
   "execution_count": 21,
   "id": "9f3bcd2d-cc13-4ea7-9767-fc416fdde5ca",
   "metadata": {},
   "outputs": [
    {
     "data": {
      "text/plain": [
       "Date/Time    0\n",
       "Lat          0\n",
       "Lon          0\n",
       "Base         0\n",
       "dtype: int64"
      ]
     },
     "execution_count": 21,
     "metadata": {},
     "output_type": "execute_result"
    }
   ],
   "source": [
    "df14.isnull().sum()"
   ]
  },
  {
   "cell_type": "code",
   "execution_count": 22,
   "id": "c97ca135-5665-4810-a7f6-3e8e2a15373a",
   "metadata": {},
   "outputs": [],
   "source": [
    "df14['Date/Time'] = pd.to_datetime(df14['Date/Time'], format=\"%m/%d/%Y %H:%M:%S\")\n",
    "df14['Year'] = df14['Date/Time'].dt.year #in case we want to merge the data from 2015.\n",
    "df14['Month of Year'] = df14['Date/Time'].dt.month_name()\n",
    "df14['Month'] = df14['Date/Time'].dt.month\n",
    "df14['Days of Week'] = df14['Date/Time'].dt.day_name()\n",
    "df14['Days of Month'] = df14['Date/Time'].dt.day\n",
    "df14['Hour'] = df14['Date/Time'].dt.hour\n",
    "df14['Minute'] = df14['Date/Time'].dt.minute\n",
    "df14['Date'] = [d.date() for d in df14['Date/Time']]\n",
    "df14['Time'] = [d.time() for d in df14['Date/Time']]\n",
    "\n",
    "#df14['Date'] = pd.to_datetime(df14['Date/Time']).dt.date"
   ]
  },
  {
   "cell_type": "code",
   "execution_count": 23,
   "id": "b7ed434b-5f40-48c7-af6b-ebe0c22e2ef2",
   "metadata": {},
   "outputs": [
    {
     "data": {
      "text/html": [
       "<div>\n",
       "<style scoped>\n",
       "    .dataframe tbody tr th:only-of-type {\n",
       "        vertical-align: middle;\n",
       "    }\n",
       "\n",
       "    .dataframe tbody tr th {\n",
       "        vertical-align: top;\n",
       "    }\n",
       "\n",
       "    .dataframe thead th {\n",
       "        text-align: right;\n",
       "    }\n",
       "</style>\n",
       "<table border=\"1\" class=\"dataframe\">\n",
       "  <thead>\n",
       "    <tr style=\"text-align: right;\">\n",
       "      <th></th>\n",
       "      <th>Date/Time</th>\n",
       "      <th>Lat</th>\n",
       "      <th>Lon</th>\n",
       "      <th>Base</th>\n",
       "      <th>Year</th>\n",
       "      <th>Month of Year</th>\n",
       "      <th>Month</th>\n",
       "      <th>Days of Week</th>\n",
       "      <th>Days of Month</th>\n",
       "      <th>Hour</th>\n",
       "      <th>Minute</th>\n",
       "      <th>Date</th>\n",
       "      <th>Time</th>\n",
       "    </tr>\n",
       "  </thead>\n",
       "  <tbody>\n",
       "    <tr>\n",
       "      <th>0</th>\n",
       "      <td>2014-09-01 00:01:00</td>\n",
       "      <td>40.2201</td>\n",
       "      <td>-74.0021</td>\n",
       "      <td>B02512</td>\n",
       "      <td>2014</td>\n",
       "      <td>September</td>\n",
       "      <td>9</td>\n",
       "      <td>Monday</td>\n",
       "      <td>1</td>\n",
       "      <td>0</td>\n",
       "      <td>1</td>\n",
       "      <td>2014-09-01</td>\n",
       "      <td>00:01:00</td>\n",
       "    </tr>\n",
       "    <tr>\n",
       "      <th>1</th>\n",
       "      <td>2014-09-01 00:01:00</td>\n",
       "      <td>40.7500</td>\n",
       "      <td>-74.0027</td>\n",
       "      <td>B02512</td>\n",
       "      <td>2014</td>\n",
       "      <td>September</td>\n",
       "      <td>9</td>\n",
       "      <td>Monday</td>\n",
       "      <td>1</td>\n",
       "      <td>0</td>\n",
       "      <td>1</td>\n",
       "      <td>2014-09-01</td>\n",
       "      <td>00:01:00</td>\n",
       "    </tr>\n",
       "    <tr>\n",
       "      <th>2</th>\n",
       "      <td>2014-09-01 00:03:00</td>\n",
       "      <td>40.7559</td>\n",
       "      <td>-73.9864</td>\n",
       "      <td>B02512</td>\n",
       "      <td>2014</td>\n",
       "      <td>September</td>\n",
       "      <td>9</td>\n",
       "      <td>Monday</td>\n",
       "      <td>1</td>\n",
       "      <td>0</td>\n",
       "      <td>3</td>\n",
       "      <td>2014-09-01</td>\n",
       "      <td>00:03:00</td>\n",
       "    </tr>\n",
       "    <tr>\n",
       "      <th>3</th>\n",
       "      <td>2014-09-01 00:06:00</td>\n",
       "      <td>40.7450</td>\n",
       "      <td>-73.9889</td>\n",
       "      <td>B02512</td>\n",
       "      <td>2014</td>\n",
       "      <td>September</td>\n",
       "      <td>9</td>\n",
       "      <td>Monday</td>\n",
       "      <td>1</td>\n",
       "      <td>0</td>\n",
       "      <td>6</td>\n",
       "      <td>2014-09-01</td>\n",
       "      <td>00:06:00</td>\n",
       "    </tr>\n",
       "    <tr>\n",
       "      <th>4</th>\n",
       "      <td>2014-09-01 00:11:00</td>\n",
       "      <td>40.8145</td>\n",
       "      <td>-73.9444</td>\n",
       "      <td>B02512</td>\n",
       "      <td>2014</td>\n",
       "      <td>September</td>\n",
       "      <td>9</td>\n",
       "      <td>Monday</td>\n",
       "      <td>1</td>\n",
       "      <td>0</td>\n",
       "      <td>11</td>\n",
       "      <td>2014-09-01</td>\n",
       "      <td>00:11:00</td>\n",
       "    </tr>\n",
       "  </tbody>\n",
       "</table>\n",
       "</div>"
      ],
      "text/plain": [
       "            Date/Time      Lat      Lon    Base  Year Month of Year  Month  \\\n",
       "0 2014-09-01 00:01:00  40.2201 -74.0021  B02512  2014     September      9   \n",
       "1 2014-09-01 00:01:00  40.7500 -74.0027  B02512  2014     September      9   \n",
       "2 2014-09-01 00:03:00  40.7559 -73.9864  B02512  2014     September      9   \n",
       "3 2014-09-01 00:06:00  40.7450 -73.9889  B02512  2014     September      9   \n",
       "4 2014-09-01 00:11:00  40.8145 -73.9444  B02512  2014     September      9   \n",
       "\n",
       "  Days of Week  Days of Month  Hour  Minute        Date      Time  \n",
       "0       Monday              1     0       1  2014-09-01  00:01:00  \n",
       "1       Monday              1     0       1  2014-09-01  00:01:00  \n",
       "2       Monday              1     0       3  2014-09-01  00:03:00  \n",
       "3       Monday              1     0       6  2014-09-01  00:06:00  \n",
       "4       Monday              1     0      11  2014-09-01  00:11:00  "
      ]
     },
     "execution_count": 23,
     "metadata": {},
     "output_type": "execute_result"
    }
   ],
   "source": [
    "df14.head()"
   ]
  },
  {
   "cell_type": "code",
   "execution_count": 24,
   "id": "6a90c1fd-4401-4835-94ef-9654d890aaa5",
   "metadata": {},
   "outputs": [
    {
     "data": {
      "text/plain": [
       "82581"
      ]
     },
     "execution_count": 24,
     "metadata": {},
     "output_type": "execute_result"
    }
   ],
   "source": [
    "#check for duplicates\n",
    "df14.duplicated().sum()"
   ]
  },
  {
   "cell_type": "code",
   "execution_count": 25,
   "id": "3805f64d-eeda-493a-8e32-ac8076ba5413",
   "metadata": {},
   "outputs": [],
   "source": [
    "df14.drop_duplicates(inplace=True)"
   ]
  },
  {
   "cell_type": "code",
   "execution_count": 26,
   "id": "e446c3a3-fc06-4710-856e-0f9f7aeeb494",
   "metadata": {},
   "outputs": [
    {
     "data": {
      "text/plain": [
       "(4451746, 13)"
      ]
     },
     "execution_count": 26,
     "metadata": {},
     "output_type": "execute_result"
    }
   ],
   "source": [
    "df14.shape"
   ]
  },
  {
   "cell_type": "code",
   "execution_count": 49,
   "id": "fad52daa-2605-4a96-aa7d-ab7923edf196",
   "metadata": {},
   "outputs": [
    {
     "data": {
      "text/plain": [
       "0    2014-09-01\n",
       "1    2014-09-01\n",
       "2    2014-09-01\n",
       "3    2014-09-01\n",
       "4    2014-09-01\n",
       "Name: Date, dtype: object"
      ]
     },
     "execution_count": 49,
     "metadata": {},
     "output_type": "execute_result"
    }
   ],
   "source": [
    "df14[\"Date\"].head()"
   ]
  },
  {
   "cell_type": "code",
   "execution_count": 51,
   "id": "d2a4f587-9fb5-4a34-ad31-872531e044bc",
   "metadata": {},
   "outputs": [
    {
     "data": {
      "text/html": [
       "<div>\n",
       "<style scoped>\n",
       "    .dataframe tbody tr th:only-of-type {\n",
       "        vertical-align: middle;\n",
       "    }\n",
       "\n",
       "    .dataframe tbody tr th {\n",
       "        vertical-align: top;\n",
       "    }\n",
       "\n",
       "    .dataframe thead th {\n",
       "        text-align: right;\n",
       "    }\n",
       "</style>\n",
       "<table border=\"1\" class=\"dataframe\">\n",
       "  <thead>\n",
       "    <tr style=\"text-align: right;\">\n",
       "      <th></th>\n",
       "      <th>Date</th>\n",
       "    </tr>\n",
       "  </thead>\n",
       "  <tbody>\n",
       "    <tr>\n",
       "      <th>0</th>\n",
       "      <td>2015-01-01</td>\n",
       "    </tr>\n",
       "    <tr>\n",
       "      <th>1</th>\n",
       "      <td>2015-01-19</td>\n",
       "    </tr>\n",
       "    <tr>\n",
       "      <th>2</th>\n",
       "      <td>2015-02-12</td>\n",
       "    </tr>\n",
       "    <tr>\n",
       "      <th>3</th>\n",
       "      <td>2015-02-16</td>\n",
       "    </tr>\n",
       "    <tr>\n",
       "      <th>4</th>\n",
       "      <td>2015-05-25</td>\n",
       "    </tr>\n",
       "    <tr>\n",
       "      <th>5</th>\n",
       "      <td>2015-06-19</td>\n",
       "    </tr>\n",
       "    <tr>\n",
       "      <th>6</th>\n",
       "      <td>2014-05-26</td>\n",
       "    </tr>\n",
       "    <tr>\n",
       "      <th>7</th>\n",
       "      <td>2014-06-19</td>\n",
       "    </tr>\n",
       "    <tr>\n",
       "      <th>8</th>\n",
       "      <td>2014-07-04</td>\n",
       "    </tr>\n",
       "    <tr>\n",
       "      <th>9</th>\n",
       "      <td>2014-09-01</td>\n",
       "    </tr>\n",
       "  </tbody>\n",
       "</table>\n",
       "</div>"
      ],
      "text/plain": [
       "         Date\n",
       "0  2015-01-01\n",
       "1  2015-01-19\n",
       "2  2015-02-12\n",
       "3  2015-02-16\n",
       "4  2015-05-25\n",
       "5  2015-06-19\n",
       "6  2014-05-26\n",
       "7  2014-06-19\n",
       "8  2014-07-04\n",
       "9  2014-09-01"
      ]
     },
     "execution_count": 51,
     "metadata": {},
     "output_type": "execute_result"
    }
   ],
   "source": [
    "holiday = pd.read_csv(\"~/uber/date_holiday.txt\")\n",
    "holiday"
   ]
  },
  {
   "cell_type": "code",
   "execution_count": 42,
   "id": "a1eb0e57-ce68-4e6c-8d6b-1d03d9b5f95f",
   "metadata": {},
   "outputs": [
    {
     "data": {
      "text/html": [
       "<div>\n",
       "<style scoped>\n",
       "    .dataframe tbody tr th:only-of-type {\n",
       "        vertical-align: middle;\n",
       "    }\n",
       "\n",
       "    .dataframe tbody tr th {\n",
       "        vertical-align: top;\n",
       "    }\n",
       "\n",
       "    .dataframe thead th {\n",
       "        text-align: right;\n",
       "    }\n",
       "</style>\n",
       "<table border=\"1\" class=\"dataframe\">\n",
       "  <thead>\n",
       "    <tr style=\"text-align: right;\">\n",
       "      <th></th>\n",
       "      <th>Date/Time</th>\n",
       "      <th>Lat</th>\n",
       "      <th>Lon</th>\n",
       "      <th>Base</th>\n",
       "      <th>Year</th>\n",
       "      <th>Month of Year</th>\n",
       "      <th>Month</th>\n",
       "      <th>Days of Week</th>\n",
       "      <th>Days of Month</th>\n",
       "      <th>Hour</th>\n",
       "      <th>Minute</th>\n",
       "      <th>Date</th>\n",
       "      <th>Time</th>\n",
       "      <th>holiday_status</th>\n",
       "    </tr>\n",
       "  </thead>\n",
       "  <tbody>\n",
       "    <tr>\n",
       "      <th>0</th>\n",
       "      <td>2014-09-01 00:01:00</td>\n",
       "      <td>40.2201</td>\n",
       "      <td>-74.0021</td>\n",
       "      <td>B02512</td>\n",
       "      <td>2014</td>\n",
       "      <td>September</td>\n",
       "      <td>9</td>\n",
       "      <td>Monday</td>\n",
       "      <td>1</td>\n",
       "      <td>0</td>\n",
       "      <td>1</td>\n",
       "      <td>2014-09-01</td>\n",
       "      <td>00:01:00</td>\n",
       "      <td>0</td>\n",
       "    </tr>\n",
       "    <tr>\n",
       "      <th>1</th>\n",
       "      <td>2014-09-01 00:01:00</td>\n",
       "      <td>40.7500</td>\n",
       "      <td>-74.0027</td>\n",
       "      <td>B02512</td>\n",
       "      <td>2014</td>\n",
       "      <td>September</td>\n",
       "      <td>9</td>\n",
       "      <td>Monday</td>\n",
       "      <td>1</td>\n",
       "      <td>0</td>\n",
       "      <td>1</td>\n",
       "      <td>2014-09-01</td>\n",
       "      <td>00:01:00</td>\n",
       "      <td>0</td>\n",
       "    </tr>\n",
       "    <tr>\n",
       "      <th>2</th>\n",
       "      <td>2014-09-01 00:03:00</td>\n",
       "      <td>40.7559</td>\n",
       "      <td>-73.9864</td>\n",
       "      <td>B02512</td>\n",
       "      <td>2014</td>\n",
       "      <td>September</td>\n",
       "      <td>9</td>\n",
       "      <td>Monday</td>\n",
       "      <td>1</td>\n",
       "      <td>0</td>\n",
       "      <td>3</td>\n",
       "      <td>2014-09-01</td>\n",
       "      <td>00:03:00</td>\n",
       "      <td>0</td>\n",
       "    </tr>\n",
       "    <tr>\n",
       "      <th>3</th>\n",
       "      <td>2014-09-01 00:06:00</td>\n",
       "      <td>40.7450</td>\n",
       "      <td>-73.9889</td>\n",
       "      <td>B02512</td>\n",
       "      <td>2014</td>\n",
       "      <td>September</td>\n",
       "      <td>9</td>\n",
       "      <td>Monday</td>\n",
       "      <td>1</td>\n",
       "      <td>0</td>\n",
       "      <td>6</td>\n",
       "      <td>2014-09-01</td>\n",
       "      <td>00:06:00</td>\n",
       "      <td>0</td>\n",
       "    </tr>\n",
       "    <tr>\n",
       "      <th>4</th>\n",
       "      <td>2014-09-01 00:11:00</td>\n",
       "      <td>40.8145</td>\n",
       "      <td>-73.9444</td>\n",
       "      <td>B02512</td>\n",
       "      <td>2014</td>\n",
       "      <td>September</td>\n",
       "      <td>9</td>\n",
       "      <td>Monday</td>\n",
       "      <td>1</td>\n",
       "      <td>0</td>\n",
       "      <td>11</td>\n",
       "      <td>2014-09-01</td>\n",
       "      <td>00:11:00</td>\n",
       "      <td>0</td>\n",
       "    </tr>\n",
       "  </tbody>\n",
       "</table>\n",
       "</div>"
      ],
      "text/plain": [
       "            Date/Time      Lat      Lon    Base  Year Month of Year  Month  \\\n",
       "0 2014-09-01 00:01:00  40.2201 -74.0021  B02512  2014     September      9   \n",
       "1 2014-09-01 00:01:00  40.7500 -74.0027  B02512  2014     September      9   \n",
       "2 2014-09-01 00:03:00  40.7559 -73.9864  B02512  2014     September      9   \n",
       "3 2014-09-01 00:06:00  40.7450 -73.9889  B02512  2014     September      9   \n",
       "4 2014-09-01 00:11:00  40.8145 -73.9444  B02512  2014     September      9   \n",
       "\n",
       "  Days of Week  Days of Month  Hour  Minute        Date      Time  \\\n",
       "0       Monday              1     0       1  2014-09-01  00:01:00   \n",
       "1       Monday              1     0       1  2014-09-01  00:01:00   \n",
       "2       Monday              1     0       3  2014-09-01  00:03:00   \n",
       "3       Monday              1     0       6  2014-09-01  00:06:00   \n",
       "4       Monday              1     0      11  2014-09-01  00:11:00   \n",
       "\n",
       "  holiday_status  \n",
       "0              0  \n",
       "1              0  \n",
       "2              0  \n",
       "3              0  \n",
       "4              0  "
      ]
     },
     "execution_count": 42,
     "metadata": {},
     "output_type": "execute_result"
    }
   ],
   "source": [
    "holiday_status = []\n",
    "for value in df14[\"Date\"]:\n",
    "    if value in holiday:\n",
    "        holiday_status.append(\"1\")\n",
    "    else:\n",
    "        holiday_status.append(\"0\")\n",
    "       \n",
    "df14[\"holiday_status\"] = holiday_status   \n",
    "df14.head()"
   ]
  },
  {
   "cell_type": "code",
   "execution_count": 53,
   "id": "9bf91640-efd8-423e-b726-d2845111de8a",
   "metadata": {},
   "outputs": [
    {
     "data": {
      "text/html": [
       "<div>\n",
       "<style scoped>\n",
       "    .dataframe tbody tr th:only-of-type {\n",
       "        vertical-align: middle;\n",
       "    }\n",
       "\n",
       "    .dataframe tbody tr th {\n",
       "        vertical-align: top;\n",
       "    }\n",
       "\n",
       "    .dataframe thead th {\n",
       "        text-align: right;\n",
       "    }\n",
       "</style>\n",
       "<table border=\"1\" class=\"dataframe\">\n",
       "  <thead>\n",
       "    <tr style=\"text-align: right;\">\n",
       "      <th></th>\n",
       "      <th>Date/Time</th>\n",
       "      <th>Lat</th>\n",
       "      <th>Lon</th>\n",
       "      <th>Base</th>\n",
       "      <th>Year</th>\n",
       "      <th>Month of Year</th>\n",
       "      <th>Month</th>\n",
       "      <th>Days of Week</th>\n",
       "      <th>Days of Month</th>\n",
       "      <th>Hour</th>\n",
       "      <th>Minute</th>\n",
       "      <th>Date</th>\n",
       "      <th>Time</th>\n",
       "      <th>holiday_status</th>\n",
       "    </tr>\n",
       "  </thead>\n",
       "  <tbody>\n",
       "  </tbody>\n",
       "</table>\n",
       "</div>"
      ],
      "text/plain": [
       "Empty DataFrame\n",
       "Columns: [Date/Time, Lat, Lon, Base, Year, Month of Year, Month, Days of Week, Days of Month, Hour, Minute, Date, Time, holiday_status]\n",
       "Index: []"
      ]
     },
     "execution_count": 53,
     "metadata": {},
     "output_type": "execute_result"
    }
   ],
   "source": [
    "df14[df14[\"Date\"]==\"2014-09-01\"].head()"
   ]
  },
  {
   "cell_type": "markdown",
   "id": "97777d8c-f830-439d-91a1-30d53ed2821c",
   "metadata": {},
   "source": [
    "# EDA"
   ]
  },
  {
   "cell_type": "code",
   "execution_count": 29,
   "id": "fa881cd7-8a0f-404d-a760-10d50b21c277",
   "metadata": {},
   "outputs": [
    {
     "data": {
      "text/plain": [
       "Thursday     741372\n",
       "Friday       727532\n",
       "Wednesday    683604\n",
       "Tuesday      651753\n",
       "Saturday     634194\n",
       "Monday       532133\n",
       "Sunday       481158\n",
       "Name: Days of Week, dtype: int64"
      ]
     },
     "execution_count": 29,
     "metadata": {},
     "output_type": "execute_result"
    }
   ],
   "source": [
    "df14['Days of Week'].value_counts()"
   ]
  },
  {
   "cell_type": "code",
   "execution_count": 30,
   "id": "d9b1219d-a96e-4a9b-8c86-28bd0297c390",
   "metadata": {},
   "outputs": [
    {
     "data": {
      "image/png": "[encoded data removed]",
      "text/plain": [
       "<Figure size 432x288 with 1 Axes>"
      ]
     },
     "metadata": {},
     "output_type": "display_data"
    }
   ],
   "source": [
    "# Uber pickups by the month in NYC\n",
    "sns.set_style('whitegrid')\n",
    "ax = sns.countplot(x=\"Days of Week\", data=df14, color=\"lightsteelblue\")\n",
    "ax.yaxis.set_major_formatter(FormatStrFormatter('%.0f'))\n",
    "ax.set_xlabel('Month', fontsize = 12)\n",
    "ax.set_ylabel('Count of Uber Pickups', fontsize = 12)\n",
    "ax.set_title('Uber Pickups By the Days of Week in NYC (Apr-Sep 2014)', fontsize=16)\n",
    "ax.tick_params(labelsize = 8)\n",
    "plt.show()"
   ]
  },
  {
   "cell_type": "code",
   "execution_count": 31,
   "id": "308892b9-f2ae-4f21-802c-fe72e0da0faa",
   "metadata": {},
   "outputs": [
    {
     "data": {
      "text/plain": [
       "9    1004099\n",
       "8     813393\n",
       "7     781969\n",
       "6     653158\n",
       "5     642360\n",
       "4     556767\n",
       "Name: Month, dtype: int64"
      ]
     },
     "execution_count": 31,
     "metadata": {},
     "output_type": "execute_result"
    }
   ],
   "source": [
    "df14['Month'].value_counts()"
   ]
  },
  {
   "cell_type": "code",
   "execution_count": 32,
   "id": "e5b7df59-5082-471d-89a7-f71759951b97",
   "metadata": {},
   "outputs": [
    {
     "data": {
      "image/png": "[encoded data removed]",
      "text/plain": [
       "<Figure size 432x288 with 1 Axes>"
      ]
     },
     "metadata": {},
     "output_type": "display_data"
    }
   ],
   "source": [
    "# Uber pickups by the month in NYC\n",
    "sns.set_style('whitegrid')\n",
    "ax = sns.countplot(x=\"Month\", data=df14, color=\"lightsteelblue\")\n",
    "ax.yaxis.set_major_formatter(FormatStrFormatter('%.0f'))\n",
    "ax.set_xlabel('Month', fontsize = 12)\n",
    "ax.set_ylabel('Count of Uber Pickups', fontsize = 12)\n",
    "ax.set_title('Uber Pickups By the Month in NYC (Apr-Sep 2014)', fontsize=16)\n",
    "ax.tick_params(labelsize = 8)\n",
    "plt.show()"
   ]
  },
  {
   "cell_type": "code",
   "execution_count": 33,
   "id": "95a259df-e427-47cb-80f8-cbbbcc5760d2",
   "metadata": {},
   "outputs": [],
   "source": [
    "#group the data by Month of Years by Days of Week\n",
    "summary1 = df14.groupby(['Month of Year', 'Days of Week'])['Time'].count()"
   ]
  },
  {
   "cell_type": "code",
   "execution_count": 34,
   "id": "15038082-20be-4cda-a068-9c472d8a7168",
   "metadata": {},
   "outputs": [
    {
     "data": {
      "text/html": [
       "<div>\n",
       "<style scoped>\n",
       "    .dataframe tbody tr th:only-of-type {\n",
       "        vertical-align: middle;\n",
       "    }\n",
       "\n",
       "    .dataframe tbody tr th {\n",
       "        vertical-align: top;\n",
       "    }\n",
       "\n",
       "    .dataframe thead th {\n",
       "        text-align: right;\n",
       "    }\n",
       "</style>\n",
       "<table border=\"1\" class=\"dataframe\">\n",
       "  <thead>\n",
       "    <tr style=\"text-align: right;\">\n",
       "      <th></th>\n",
       "      <th>Month of Year</th>\n",
       "      <th>Days of Week</th>\n",
       "      <th>Time</th>\n",
       "    </tr>\n",
       "  </thead>\n",
       "  <tbody>\n",
       "    <tr>\n",
       "      <th>0</th>\n",
       "      <td>April</td>\n",
       "      <td>Friday</td>\n",
       "      <td>88985</td>\n",
       "    </tr>\n",
       "    <tr>\n",
       "      <th>1</th>\n",
       "      <td>April</td>\n",
       "      <td>Monday</td>\n",
       "      <td>60075</td>\n",
       "    </tr>\n",
       "    <tr>\n",
       "      <th>2</th>\n",
       "      <td>April</td>\n",
       "      <td>Saturday</td>\n",
       "      <td>76152</td>\n",
       "    </tr>\n",
       "    <tr>\n",
       "      <th>3</th>\n",
       "      <td>April</td>\n",
       "      <td>Sunday</td>\n",
       "      <td>50524</td>\n",
       "    </tr>\n",
       "    <tr>\n",
       "      <th>4</th>\n",
       "      <td>April</td>\n",
       "      <td>Thursday</td>\n",
       "      <td>83954</td>\n",
       "    </tr>\n",
       "  </tbody>\n",
       "</table>\n",
       "</div>"
      ],
      "text/plain": [
       "  Month of Year Days of Week   Time\n",
       "0         April       Friday  88985\n",
       "1         April       Monday  60075\n",
       "2         April     Saturday  76152\n",
       "3         April       Sunday  50524\n",
       "4         April     Thursday  83954"
      ]
     },
     "execution_count": 34,
     "metadata": {},
     "output_type": "execute_result"
    }
   ],
   "source": [
    "#reset index\n",
    "summary1 = summary1.reset_index()\n",
    "#convert to dataframe\n",
    "summary1 = pd.DataFrame(summary1)\n",
    "#browse data\n",
    "summary1.head()"
   ]
  },
  {
   "cell_type": "code",
   "execution_count": 35,
   "id": "86ce0103-0a03-46e6-95fd-fa98fc8f0bf9",
   "metadata": {},
   "outputs": [],
   "source": [
    "#rename last column\n",
    "summary1=summary1.rename(columns = {'Time':'Counts'})"
   ]
  },
  {
   "cell_type": "code",
   "execution_count": 52,
   "id": "fcd8b7db-cc6c-4a49-8ac6-54da4b9decb3",
   "metadata": {},
   "outputs": [
    {
     "data": {
      "image/png": "[encoded data removed]",
      "text/plain": [
       "<Figure size 432x288 with 1 Axes>"
      ]
     },
     "metadata": {},
     "output_type": "display_data"
    }
   ],
   "source": [
    "#Label needs to be added and x-axis needs to be rearranged.\n",
    "sns.set_style('whitegrid')\n",
    "ax = sns.pointplot(x=\"Days of Week\", y=\"Counts\", hue=\"Month of Year\", data=summary1)\n",
    "handles,labels = ax.get_legend_handles_labels()\n",
    "labels = [labels[0], labels[4], labels[3], labels[2], labels[1], labels[5]]\n",
    "ax.yaxis.set_major_formatter(FormatStrFormatter('%.0f'))\n",
    "ax.set_xlabel('Days of Week', fontsize = 12)\n",
    "ax.set_ylabel('Count of Uber Pickups', fontsize = 12)\n",
    "ax.set_title('Daily Uber Pickups By Day of the Week in NYC (Apr-Sep 2014)', fontsize=16)\n",
    "ax.tick_params(labelsize = 8)\n",
    "ax.legend(handles,labels,loc=0, title=\"Legend\", prop={'size':8})\n",
    "ax.get_legend().get_title().set_fontsize('8')\n",
    "plt.show()"
   ]
  },
  {
   "cell_type": "code",
   "execution_count": null,
   "id": "2e111626-4638-45ec-ae03-4b079814746a",
   "metadata": {},
   "outputs": [],
   "source": [
    "handles,labels = ax.get_legend_handles_labels()\n",
    "labels\n",
    "#handles,labels = ax.get_legend_handles_labels()\n",
    "#reordering legend content\n",
    "#handles = [handles[1], handles[5], handles[6], handles[4], handles[0], handles[2], handles[3]]\n",
    "labels = [labels[0], labels[4], labels[3], labels[2], labels[1], labels[5]]\n",
    "sort= False"
   ]
  },
  {
   "cell_type": "code",
   "execution_count": null,
   "id": "fd86019c-c268-4c73-8255-16215a5c1ee3",
   "metadata": {},
   "outputs": [],
   "source": [
    "df14.head()"
   ]
  },
  {
   "cell_type": "code",
   "execution_count": null,
   "id": "a52ca323-6ab2-4a24-a8e9-e334a03eba86",
   "metadata": {},
   "outputs": [],
   "source": []
  }
 ],
 "metadata": {
  "kernelspec": {
   "display_name": "Python 3 (ipykernel)",
   "language": "python",
   "name": "python3"
  },
  "language_info": {
   "codemirror_mode": {
    "name": "ipython",
    "version": 3
   },
   "file_extension": ".py",
   "mimetype": "text/x-python",
   "name": "python",
   "nbconvert_exporter": "python",
   "pygments_lexer": "ipython3",
   "version": "3.8.10"
  }
 },
 "nbformat": 4,
 "nbformat_minor": 5
}
