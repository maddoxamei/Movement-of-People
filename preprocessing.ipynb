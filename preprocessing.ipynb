{
 "cells": [
  {
   "cell_type": "markdown",
   "metadata": {},
   "source": [
    "# Import Dependencies\n",
    "\n",
    "**Note** PySpark has it's own [implementation of pandas api](https://spark.apache.org/docs/3.2.0/api/python/reference/pyspark.pandas/frame.html) which computes the same functionality using distributed computing and clusters under the hood. There are some differences but the methods implemented follow along with the pyspark documentation"
   ]
  },
  {
   "cell_type": "code",
   "execution_count": 1,
   "metadata": {},
   "outputs": [],
   "source": [
    "# import pyspark.pandas as pd\n",
    "import pandas as pd\n",
    "import os"
   ]
  },
  {
   "cell_type": "markdown",
   "metadata": {},
   "source": [
    "# Load data"
   ]
  },
  {
   "cell_type": "code",
   "execution_count": 2,
   "metadata": {},
   "outputs": [
    {
     "name": "stdout",
     "output_type": "stream",
     "text": [
      "(4534327, 4)\n"
     ]
    },
    {
     "data": {
      "text/html": [
       "<div>\n",
       "<style scoped>\n",
       "    .dataframe tbody tr th:only-of-type {\n",
       "        vertical-align: middle;\n",
       "    }\n",
       "\n",
       "    .dataframe tbody tr th {\n",
       "        vertical-align: top;\n",
       "    }\n",
       "\n",
       "    .dataframe thead th {\n",
       "        text-align: right;\n",
       "    }\n",
       "</style>\n",
       "<table border=\"1\" class=\"dataframe\">\n",
       "  <thead>\n",
       "    <tr style=\"text-align: right;\">\n",
       "      <th></th>\n",
       "      <th>Date/Time</th>\n",
       "      <th>Lat</th>\n",
       "      <th>Lon</th>\n",
       "      <th>Base</th>\n",
       "    </tr>\n",
       "  </thead>\n",
       "  <tbody>\n",
       "    <tr>\n",
       "      <th>0</th>\n",
       "      <td>4/1/2014 0:11:00</td>\n",
       "      <td>40.7690</td>\n",
       "      <td>-73.9549</td>\n",
       "      <td>B02512</td>\n",
       "    </tr>\n",
       "    <tr>\n",
       "      <th>1</th>\n",
       "      <td>4/1/2014 0:17:00</td>\n",
       "      <td>40.7267</td>\n",
       "      <td>-74.0345</td>\n",
       "      <td>B02512</td>\n",
       "    </tr>\n",
       "    <tr>\n",
       "      <th>2</th>\n",
       "      <td>4/1/2014 0:21:00</td>\n",
       "      <td>40.7316</td>\n",
       "      <td>-73.9873</td>\n",
       "      <td>B02512</td>\n",
       "    </tr>\n",
       "    <tr>\n",
       "      <th>3</th>\n",
       "      <td>4/1/2014 0:28:00</td>\n",
       "      <td>40.7588</td>\n",
       "      <td>-73.9776</td>\n",
       "      <td>B02512</td>\n",
       "    </tr>\n",
       "    <tr>\n",
       "      <th>4</th>\n",
       "      <td>4/1/2014 0:33:00</td>\n",
       "      <td>40.7594</td>\n",
       "      <td>-73.9722</td>\n",
       "      <td>B02512</td>\n",
       "    </tr>\n",
       "  </tbody>\n",
       "</table>\n",
       "</div>"
      ],
      "text/plain": [
       "          Date/Time      Lat      Lon    Base\n",
       "0  4/1/2014 0:11:00  40.7690 -73.9549  B02512\n",
       "1  4/1/2014 0:17:00  40.7267 -74.0345  B02512\n",
       "2  4/1/2014 0:21:00  40.7316 -73.9873  B02512\n",
       "3  4/1/2014 0:28:00  40.7588 -73.9776  B02512\n",
       "4  4/1/2014 0:33:00  40.7594 -73.9722  B02512"
      ]
     },
     "execution_count": 2,
     "metadata": {},
     "output_type": "execute_result"
    }
   ],
   "source": [
    "path_to_data = os.path.join('.', \"data\")\n",
    "datas = [pd.read_csv(os.path.join(path_to_data, csv), \n",
    "                     encoding='utf-8') for csv in os.listdir(path_to_data) if 'uber-raw-data' in csv]\n",
    "raw_data = pd.concat( datas, axis = 0 )\n",
    "\n",
    "print( raw_data.shape )\n",
    "raw_data.head()"
   ]
  },
  {
   "cell_type": "markdown",
   "metadata": {},
   "source": [
    "# Data Descriptions"
   ]
  },
  {
   "cell_type": "code",
   "execution_count": 3,
   "metadata": {},
   "outputs": [
    {
     "name": "stdout",
     "output_type": "stream",
     "text": [
      "<class 'pandas.core.frame.DataFrame'>\n",
      "Int64Index: 4534327 entries, 0 to 1028135\n",
      "Data columns (total 4 columns):\n",
      " #   Column     Dtype  \n",
      "---  ------     -----  \n",
      " 0   Date/Time  object \n",
      " 1   Lat        float64\n",
      " 2   Lon        float64\n",
      " 3   Base       object \n",
      "dtypes: float64(2), object(2)\n",
      "memory usage: 173.0+ MB\n"
     ]
    }
   ],
   "source": [
    "raw_data.info()"
   ]
  },
  {
   "cell_type": "markdown",
   "metadata": {},
   "source": [
    "**There are no missing values in the 2014 uber dataset**"
   ]
  },
  {
   "cell_type": "code",
   "execution_count": 4,
   "metadata": {},
   "outputs": [
    {
     "data": {
      "text/plain": [
       "Date/Time    0\n",
       "Lat          0\n",
       "Lon          0\n",
       "Base         0\n",
       "dtype: int64"
      ]
     },
     "execution_count": 4,
     "metadata": {},
     "output_type": "execute_result"
    }
   ],
   "source": [
    "raw_data.isna().sum()"
   ]
  },
  {
   "cell_type": "markdown",
   "metadata": {},
   "source": [
    "**There are 5 unique Base numbers. Their frequency proportions are shown below**"
   ]
  },
  {
   "cell_type": "code",
   "execution_count": 5,
   "metadata": {},
   "outputs": [
    {
     "data": {
      "text/plain": [
       "B02617    0.321735\n",
       "B02598    0.307237\n",
       "B02682    0.267468\n",
       "B02764    0.058200\n",
       "B02512    0.045359\n",
       "Name: Base, dtype: float64"
      ]
     },
     "execution_count": 5,
     "metadata": {},
     "output_type": "execute_result"
    }
   ],
   "source": [
    "raw_data.get('Base').value_counts(normalize = True)"
   ]
  },
  {
   "cell_type": "markdown",
   "metadata": {},
   "source": [
    "**There are \"hot spots\" where there are several trips to the same/similar location**"
   ]
  },
  {
   "cell_type": "code",
   "execution_count": 6,
   "metadata": {},
   "outputs": [
    {
     "data": {
      "text/plain": [
       "Lat      Lon     \n",
       "39.6569  -74.2258       1\n",
       "40.7435  -73.9560       1\n",
       "         -73.9568       1\n",
       "         -73.9573       1\n",
       "         -73.9712       1\n",
       "                     ... \n",
       "40.7741  -73.8726    1921\n",
       "40.6449  -73.7822    1947\n",
       "40.6448  -73.7820    2079\n",
       "40.7685  -73.8625    2257\n",
       "40.6448  -73.7819    2299\n",
       "Name: Lon, Length: 574558, dtype: int64"
      ]
     },
     "execution_count": 6,
     "metadata": {},
     "output_type": "execute_result"
    }
   ],
   "source": [
    "location_counts = raw_data.groupby('Lat')['Lon'].value_counts(dropna = True).sort_values()\n",
    "location_counts"
   ]
  },
  {
   "cell_type": "markdown",
   "metadata": {},
   "source": [
    "# Data Preprocessing"
   ]
  },
  {
   "cell_type": "markdown",
   "metadata": {},
   "source": [
    "**Time-Series Totals**"
   ]
  },
  {
   "cell_type": "code",
   "execution_count": 20,
   "metadata": {},
   "outputs": [],
   "source": [
    "date_time = pd.to_datetime(raw_data.get(\"Date/Time\"), infer_datetime_format = True)\n",
    "date_time.name = 'Ride Count'\n",
    "\n",
    "date_only = date_time.dt.date.value_counts(dropna = True).sort_index()\n",
    "pd.concat([date_only, date_only.rolling(window = 7, min_periods = 1).mean()], \n",
    "                      axis = 1, keys = ['Total Rides', '7-Day Average Rides']).to_csv( os.path.join(path_to_data, 'rides_by_date.csv') )\n",
    "\n",
    "date_time.dt.day_name().value_counts(dropna = True).sort_index().to_csv( os.path.join(path_to_data, 'total_rides_by_day.csv') )\n",
    "\n",
    "location_counts.name = 'Ride Count'\n",
    "location_counts.to_csv( os.path.join(path_to_data, 'total_rides_by_location.csv') )"
   ]
  },
  {
   "cell_type": "markdown",
   "metadata": {},
   "source": [
    "**Location Totals**"
   ]
  },
  {
   "cell_type": "raw",
   "metadata": {},
   "source": [
    "from pyspark.ml.feature import StandardScaler\n",
    "from pyspark.ml.clustering import KMeans\n",
    "from pyspark.ml.evaluation import ClusteringEvaluator"
   ]
  },
  {
   "cell_type": "code",
   "execution_count": 31,
   "metadata": {},
   "outputs": [],
   "source": [
    "date_only = date_time.dt.date.value_counts(dropna = True).sort_index()"
   ]
  },
  {
   "cell_type": "code",
   "execution_count": 28,
   "metadata": {},
   "outputs": [
    {
     "data": {
      "text/html": [
       "<div>\n",
       "<style scoped>\n",
       "    .dataframe tbody tr th:only-of-type {\n",
       "        vertical-align: middle;\n",
       "    }\n",
       "\n",
       "    .dataframe tbody tr th {\n",
       "        vertical-align: top;\n",
       "    }\n",
       "\n",
       "    .dataframe thead th {\n",
       "        text-align: right;\n",
       "    }\n",
       "</style>\n",
       "<table border=\"1\" class=\"dataframe\">\n",
       "  <thead>\n",
       "    <tr style=\"text-align: right;\">\n",
       "      <th></th>\n",
       "      <th>2014-04-01</th>\n",
       "      <th>2014-04-02</th>\n",
       "      <th>2014-04-03</th>\n",
       "      <th>2014-04-04</th>\n",
       "      <th>2014-04-05</th>\n",
       "      <th>2014-04-06</th>\n",
       "      <th>2014-04-07</th>\n",
       "      <th>2014-04-08</th>\n",
       "      <th>2014-04-09</th>\n",
       "      <th>2014-04-10</th>\n",
       "      <th>...</th>\n",
       "      <th>2014-09-21</th>\n",
       "      <th>2014-09-22</th>\n",
       "      <th>2014-09-23</th>\n",
       "      <th>2014-09-24</th>\n",
       "      <th>2014-09-25</th>\n",
       "      <th>2014-09-26</th>\n",
       "      <th>2014-09-27</th>\n",
       "      <th>2014-09-28</th>\n",
       "      <th>2014-09-29</th>\n",
       "      <th>2014-09-30</th>\n",
       "    </tr>\n",
       "  </thead>\n",
       "  <tbody>\n",
       "    <tr>\n",
       "      <th>Ride Count</th>\n",
       "      <td>14546.0</td>\n",
       "      <td>17474.0</td>\n",
       "      <td>20701.000000</td>\n",
       "      <td>26714.00</td>\n",
       "      <td>19521.0</td>\n",
       "      <td>13445.0</td>\n",
       "      <td>19550.000000</td>\n",
       "      <td>16188.000000</td>\n",
       "      <td>16843.000000</td>\n",
       "      <td>20041.000000</td>\n",
       "      <td>...</td>\n",
       "      <td>28620.000000</td>\n",
       "      <td>28312.0</td>\n",
       "      <td>30316.000000</td>\n",
       "      <td>31301.000000</td>\n",
       "      <td>38203.000000</td>\n",
       "      <td>37504.000000</td>\n",
       "      <td>39468.000000</td>\n",
       "      <td>29656.000000</td>\n",
       "      <td>29201.000000</td>\n",
       "      <td>33431.000000</td>\n",
       "    </tr>\n",
       "    <tr>\n",
       "      <th>Ride Count</th>\n",
       "      <td>14546.0</td>\n",
       "      <td>16010.0</td>\n",
       "      <td>17573.666667</td>\n",
       "      <td>19858.75</td>\n",
       "      <td>19791.2</td>\n",
       "      <td>18733.5</td>\n",
       "      <td>18850.142857</td>\n",
       "      <td>19084.714286</td>\n",
       "      <td>18994.571429</td>\n",
       "      <td>18900.285714</td>\n",
       "      <td>...</td>\n",
       "      <td>35693.142857</td>\n",
       "      <td>35530.0</td>\n",
       "      <td>34704.857143</td>\n",
       "      <td>34100.571429</td>\n",
       "      <td>33804.714286</td>\n",
       "      <td>33302.857143</td>\n",
       "      <td>33389.142857</td>\n",
       "      <td>33537.142857</td>\n",
       "      <td>33664.142857</td>\n",
       "      <td>34109.142857</td>\n",
       "    </tr>\n",
       "  </tbody>\n",
       "</table>\n",
       "<p>2 rows × 183 columns</p>\n",
       "</div>"
      ],
      "text/plain": [
       "            2014-04-01  2014-04-02    2014-04-03  2014-04-04  2014-04-05  \\\n",
       "Ride Count     14546.0     17474.0  20701.000000    26714.00     19521.0   \n",
       "Ride Count     14546.0     16010.0  17573.666667    19858.75     19791.2   \n",
       "\n",
       "            2014-04-06    2014-04-07    2014-04-08    2014-04-09  \\\n",
       "Ride Count     13445.0  19550.000000  16188.000000  16843.000000   \n",
       "Ride Count     18733.5  18850.142857  19084.714286  18994.571429   \n",
       "\n",
       "              2014-04-10  ...    2014-09-21  2014-09-22    2014-09-23  \\\n",
       "Ride Count  20041.000000  ...  28620.000000     28312.0  30316.000000   \n",
       "Ride Count  18900.285714  ...  35693.142857     35530.0  34704.857143   \n",
       "\n",
       "              2014-09-24    2014-09-25    2014-09-26    2014-09-27  \\\n",
       "Ride Count  31301.000000  38203.000000  37504.000000  39468.000000   \n",
       "Ride Count  34100.571429  33804.714286  33302.857143  33389.142857   \n",
       "\n",
       "              2014-09-28    2014-09-29    2014-09-30  \n",
       "Ride Count  29656.000000  29201.000000  33431.000000  \n",
       "Ride Count  33537.142857  33664.142857  34109.142857  \n",
       "\n",
       "[2 rows x 183 columns]"
      ]
     },
     "execution_count": 28,
     "metadata": {},
     "output_type": "execute_result"
    }
   ],
   "source": [
    "pd.DataFrame([date_only, date_only.rolling(window = 7, min_periods = 1).mean()])"
   ]
  },
  {
   "cell_type": "code",
   "execution_count": 36,
   "metadata": {},
   "outputs": [
    {
     "data": {
      "text/html": [
       "<div>\n",
       "<style scoped>\n",
       "    .dataframe tbody tr th:only-of-type {\n",
       "        vertical-align: middle;\n",
       "    }\n",
       "\n",
       "    .dataframe tbody tr th {\n",
       "        vertical-align: top;\n",
       "    }\n",
       "\n",
       "    .dataframe thead th {\n",
       "        text-align: right;\n",
       "    }\n",
       "</style>\n",
       "<table border=\"1\" class=\"dataframe\">\n",
       "  <thead>\n",
       "    <tr style=\"text-align: right;\">\n",
       "      <th></th>\n",
       "      <th>Total Rides</th>\n",
       "      <th>7-Day Average Rides</th>\n",
       "    </tr>\n",
       "  </thead>\n",
       "  <tbody>\n",
       "    <tr>\n",
       "      <th>2014-04-01</th>\n",
       "      <td>14546</td>\n",
       "      <td>14546.000000</td>\n",
       "    </tr>\n",
       "    <tr>\n",
       "      <th>2014-04-02</th>\n",
       "      <td>17474</td>\n",
       "      <td>16010.000000</td>\n",
       "    </tr>\n",
       "    <tr>\n",
       "      <th>2014-04-03</th>\n",
       "      <td>20701</td>\n",
       "      <td>17573.666667</td>\n",
       "    </tr>\n",
       "    <tr>\n",
       "      <th>2014-04-04</th>\n",
       "      <td>26714</td>\n",
       "      <td>19858.750000</td>\n",
       "    </tr>\n",
       "    <tr>\n",
       "      <th>2014-04-05</th>\n",
       "      <td>19521</td>\n",
       "      <td>19791.200000</td>\n",
       "    </tr>\n",
       "    <tr>\n",
       "      <th>...</th>\n",
       "      <td>...</td>\n",
       "      <td>...</td>\n",
       "    </tr>\n",
       "    <tr>\n",
       "      <th>2014-09-26</th>\n",
       "      <td>37504</td>\n",
       "      <td>33302.857143</td>\n",
       "    </tr>\n",
       "    <tr>\n",
       "      <th>2014-09-27</th>\n",
       "      <td>39468</td>\n",
       "      <td>33389.142857</td>\n",
       "    </tr>\n",
       "    <tr>\n",
       "      <th>2014-09-28</th>\n",
       "      <td>29656</td>\n",
       "      <td>33537.142857</td>\n",
       "    </tr>\n",
       "    <tr>\n",
       "      <th>2014-09-29</th>\n",
       "      <td>29201</td>\n",
       "      <td>33664.142857</td>\n",
       "    </tr>\n",
       "    <tr>\n",
       "      <th>2014-09-30</th>\n",
       "      <td>33431</td>\n",
       "      <td>34109.142857</td>\n",
       "    </tr>\n",
       "  </tbody>\n",
       "</table>\n",
       "<p>183 rows × 2 columns</p>\n",
       "</div>"
      ],
      "text/plain": [
       "            Total Rides  7-Day Average Rides\n",
       "2014-04-01        14546         14546.000000\n",
       "2014-04-02        17474         16010.000000\n",
       "2014-04-03        20701         17573.666667\n",
       "2014-04-04        26714         19858.750000\n",
       "2014-04-05        19521         19791.200000\n",
       "...                 ...                  ...\n",
       "2014-09-26        37504         33302.857143\n",
       "2014-09-27        39468         33389.142857\n",
       "2014-09-28        29656         33537.142857\n",
       "2014-09-29        29201         33664.142857\n",
       "2014-09-30        33431         34109.142857\n",
       "\n",
       "[183 rows x 2 columns]"
      ]
     },
     "execution_count": 36,
     "metadata": {},
     "output_type": "execute_result"
    }
   ],
   "source": []
  },
  {
   "cell_type": "code",
   "execution_count": 30,
   "metadata": {},
   "outputs": [
    {
     "data": {
      "text/html": [
       "<div>\n",
       "<style scoped>\n",
       "    .dataframe tbody tr th:only-of-type {\n",
       "        vertical-align: middle;\n",
       "    }\n",
       "\n",
       "    .dataframe tbody tr th {\n",
       "        vertical-align: top;\n",
       "    }\n",
       "\n",
       "    .dataframe thead th {\n",
       "        text-align: right;\n",
       "    }\n",
       "</style>\n",
       "<table border=\"1\" class=\"dataframe\">\n",
       "  <thead>\n",
       "    <tr style=\"text-align: right;\">\n",
       "      <th></th>\n",
       "      <th>Ride Count</th>\n",
       "      <th>Ride Count</th>\n",
       "    </tr>\n",
       "  </thead>\n",
       "  <tbody>\n",
       "    <tr>\n",
       "      <th>2014-04-01</th>\n",
       "      <td>14546</td>\n",
       "      <td>14546.000000</td>\n",
       "    </tr>\n",
       "    <tr>\n",
       "      <th>2014-04-02</th>\n",
       "      <td>17474</td>\n",
       "      <td>16010.000000</td>\n",
       "    </tr>\n",
       "    <tr>\n",
       "      <th>2014-04-03</th>\n",
       "      <td>20701</td>\n",
       "      <td>17573.666667</td>\n",
       "    </tr>\n",
       "    <tr>\n",
       "      <th>2014-04-04</th>\n",
       "      <td>26714</td>\n",
       "      <td>19858.750000</td>\n",
       "    </tr>\n",
       "    <tr>\n",
       "      <th>2014-04-05</th>\n",
       "      <td>19521</td>\n",
       "      <td>19791.200000</td>\n",
       "    </tr>\n",
       "    <tr>\n",
       "      <th>...</th>\n",
       "      <td>...</td>\n",
       "      <td>...</td>\n",
       "    </tr>\n",
       "    <tr>\n",
       "      <th>2014-09-26</th>\n",
       "      <td>37504</td>\n",
       "      <td>33302.857143</td>\n",
       "    </tr>\n",
       "    <tr>\n",
       "      <th>2014-09-27</th>\n",
       "      <td>39468</td>\n",
       "      <td>33389.142857</td>\n",
       "    </tr>\n",
       "    <tr>\n",
       "      <th>2014-09-28</th>\n",
       "      <td>29656</td>\n",
       "      <td>33537.142857</td>\n",
       "    </tr>\n",
       "    <tr>\n",
       "      <th>2014-09-29</th>\n",
       "      <td>29201</td>\n",
       "      <td>33664.142857</td>\n",
       "    </tr>\n",
       "    <tr>\n",
       "      <th>2014-09-30</th>\n",
       "      <td>33431</td>\n",
       "      <td>34109.142857</td>\n",
       "    </tr>\n",
       "  </tbody>\n",
       "</table>\n",
       "<p>183 rows × 2 columns</p>\n",
       "</div>"
      ],
      "text/plain": [
       "            Ride Count    Ride Count\n",
       "2014-04-01       14546  14546.000000\n",
       "2014-04-02       17474  16010.000000\n",
       "2014-04-03       20701  17573.666667\n",
       "2014-04-04       26714  19858.750000\n",
       "2014-04-05       19521  19791.200000\n",
       "...                ...           ...\n",
       "2014-09-26       37504  33302.857143\n",
       "2014-09-27       39468  33389.142857\n",
       "2014-09-28       29656  33537.142857\n",
       "2014-09-29       29201  33664.142857\n",
       "2014-09-30       33431  34109.142857\n",
       "\n",
       "[183 rows x 2 columns]"
      ]
     },
     "execution_count": 30,
     "metadata": {},
     "output_type": "execute_result"
    }
   ],
   "source": [
    "date_only"
   ]
  },
  {
   "cell_type": "code",
   "execution_count": 26,
   "metadata": {},
   "outputs": [
    {
     "data": {
      "text/plain": [
       "2014-04-01    14546.000000\n",
       "2014-04-02    16010.000000\n",
       "2014-04-03    17573.666667\n",
       "2014-04-04    19858.750000\n",
       "2014-04-05    19791.200000\n",
       "                  ...     \n",
       "2014-09-26    33302.857143\n",
       "2014-09-27    33389.142857\n",
       "2014-09-28    33537.142857\n",
       "2014-09-29    33664.142857\n",
       "2014-09-30    34109.142857\n",
       "Name: Ride Count, Length: 183, dtype: float64"
      ]
     },
     "execution_count": 26,
     "metadata": {},
     "output_type": "execute_result"
    }
   ],
   "source": [
    "date_time.dt.date.value_counts(dropna = True).sort_index().rolling(window = 7, min_periods = 1).mean()"
   ]
  },
  {
   "cell_type": "code",
   "execution_count": null,
   "metadata": {},
   "outputs": [],
   "source": []
  }
 ],
 "metadata": {
  "kernelspec": {
   "display_name": "Python 3",
   "language": "python",
   "name": "python3"
  },
  "language_info": {
   "codemirror_mode": {
    "name": "ipython",
    "version": 3
   },
   "file_extension": ".py",
   "mimetype": "text/x-python",
   "name": "python",
   "nbconvert_exporter": "python",
   "pygments_lexer": "ipython3",
   "version": "3.8.6"
  }
 },
 "nbformat": 4,
 "nbformat_minor": 4
}
