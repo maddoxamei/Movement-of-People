{
 "cells": [
  {
   "cell_type": "markdown",
   "metadata": {},
   "source": [
    "# Import Dependencies\n",
    "\n",
    "**Note** PySpark has it's own [implementation of pandas api](https://spark.apache.org/docs/3.2.0/api/python/reference/pyspark.pandas/frame.html) which computes the same functionality using distributed computing and clusters under the hood. There are some differences but the methods implemented follow along with the pyspark documentation"
   ]
  },
  {
   "cell_type": "code",
   "execution_count": 76,
   "metadata": {},
   "outputs": [],
   "source": [
    "# import pyspark.pandas as pd\n",
    "import matplotlib.pyplot as plt\n",
    "import pandas as pd\n",
    "import os"
   ]
  },
  {
   "cell_type": "markdown",
   "metadata": {},
   "source": [
    "# Load data"
   ]
  },
  {
   "cell_type": "code",
   "execution_count": 30,
   "metadata": {},
   "outputs": [],
   "source": [
    "path_to_data = os.path.join('.', \"data\")\n",
    "\n",
    "rides_df = pd.read_csv(os.path.join(path_to_data, 'rides_by_date.csv'), index_col = 0, parse_dates = [0])\n",
    "gas_df = pd.read_csv(os.path.join(path_to_data, 'motor-gas-prices-2014.csv'), \n",
    "                     index_col = 0, nrows = 52, parse_dates = [0])"
   ]
  },
  {
   "cell_type": "code",
   "execution_count": 31,
   "metadata": {},
   "outputs": [
    {
     "name": "stdout",
     "output_type": "stream",
     "text": [
      "DatetimeIndex(['2014-04-01', '2014-04-02', '2014-04-03', '2014-04-04',\n",
      "               '2014-04-05', '2014-04-06', '2014-04-07', '2014-04-08',\n",
      "               '2014-04-09', '2014-04-10',\n",
      "               ...\n",
      "               '2014-09-21', '2014-09-22', '2014-09-23', '2014-09-24',\n",
      "               '2014-09-25', '2014-09-26', '2014-09-27', '2014-09-28',\n",
      "               '2014-09-29', '2014-09-30'],\n",
      "              dtype='datetime64[ns]', length=183, freq=None)\n"
     ]
    },
    {
     "data": {
      "text/html": [
       "<div>\n",
       "<style scoped>\n",
       "    .dataframe tbody tr th:only-of-type {\n",
       "        vertical-align: middle;\n",
       "    }\n",
       "\n",
       "    .dataframe tbody tr th {\n",
       "        vertical-align: top;\n",
       "    }\n",
       "\n",
       "    .dataframe thead th {\n",
       "        text-align: right;\n",
       "    }\n",
       "</style>\n",
       "<table border=\"1\" class=\"dataframe\">\n",
       "  <thead>\n",
       "    <tr style=\"text-align: right;\">\n",
       "      <th></th>\n",
       "      <th>Total Rides</th>\n",
       "      <th>7-Day Average Rides</th>\n",
       "    </tr>\n",
       "  </thead>\n",
       "  <tbody>\n",
       "    <tr>\n",
       "      <th>2014-04-01</th>\n",
       "      <td>14546</td>\n",
       "      <td>14546.000000</td>\n",
       "    </tr>\n",
       "    <tr>\n",
       "      <th>2014-04-02</th>\n",
       "      <td>17474</td>\n",
       "      <td>16010.000000</td>\n",
       "    </tr>\n",
       "    <tr>\n",
       "      <th>2014-04-03</th>\n",
       "      <td>20701</td>\n",
       "      <td>17573.666667</td>\n",
       "    </tr>\n",
       "    <tr>\n",
       "      <th>2014-04-04</th>\n",
       "      <td>26714</td>\n",
       "      <td>19858.750000</td>\n",
       "    </tr>\n",
       "    <tr>\n",
       "      <th>2014-04-05</th>\n",
       "      <td>19521</td>\n",
       "      <td>19791.200000</td>\n",
       "    </tr>\n",
       "  </tbody>\n",
       "</table>\n",
       "</div>"
      ],
      "text/plain": [
       "            Total Rides  7-Day Average Rides\n",
       "2014-04-01        14546         14546.000000\n",
       "2014-04-02        17474         16010.000000\n",
       "2014-04-03        20701         17573.666667\n",
       "2014-04-04        26714         19858.750000\n",
       "2014-04-05        19521         19791.200000"
      ]
     },
     "execution_count": 31,
     "metadata": {},
     "output_type": "execute_result"
    }
   ],
   "source": [
    "print( rides_df.index )\n",
    "rides_df.head()"
   ]
  },
  {
   "cell_type": "code",
   "execution_count": 33,
   "metadata": {},
   "outputs": [
    {
     "name": "stdout",
     "output_type": "stream",
     "text": [
      "DatetimeIndex(['2014-01-06', '2014-01-13', '2014-01-20', '2014-01-27',\n",
      "               '2014-02-03', '2014-02-10', '2014-02-17', '2014-02-24',\n",
      "               '2014-03-03', '2014-03-10', '2014-03-17', '2014-03-24',\n",
      "               '2014-03-31', '2014-04-07', '2014-04-14', '2014-04-21',\n",
      "               '2014-04-28', '2014-05-05', '2014-05-12', '2014-05-19',\n",
      "               '2014-05-26', '2014-06-02', '2014-06-09', '2014-06-16',\n",
      "               '2014-06-23', '2014-06-30', '2014-07-07', '2014-07-14',\n",
      "               '2014-07-21', '2014-07-28', '2014-08-04', '2014-08-11',\n",
      "               '2014-08-18', '2014-08-25', '2014-09-01', '2014-09-08',\n",
      "               '2014-09-15', '2014-09-22', '2014-09-29', '2014-10-06',\n",
      "               '2014-10-13', '2014-10-20', '2014-10-27', '2014-11-03',\n",
      "               '2014-11-10', '2014-11-17', '2014-11-24', '2014-12-01',\n",
      "               '2014-12-08', '2014-12-15', '2014-12-22', '2014-12-29'],\n",
      "              dtype='datetime64[ns]', freq=None)\n"
     ]
    },
    {
     "data": {
      "text/html": [
       "<div>\n",
       "<style scoped>\n",
       "    .dataframe tbody tr th:only-of-type {\n",
       "        vertical-align: middle;\n",
       "    }\n",
       "\n",
       "    .dataframe tbody tr th {\n",
       "        vertical-align: top;\n",
       "    }\n",
       "\n",
       "    .dataframe thead th {\n",
       "        text-align: right;\n",
       "    }\n",
       "</style>\n",
       "<table border=\"1\" class=\"dataframe\">\n",
       "  <thead>\n",
       "    <tr style=\"text-align: right;\">\n",
       "      <th></th>\n",
       "      <th>Statewide</th>\n",
       "      <th>Upstate</th>\n",
       "      <th>Downstate</th>\n",
       "      <th>NYC</th>\n",
       "    </tr>\n",
       "  </thead>\n",
       "  <tbody>\n",
       "    <tr>\n",
       "      <th>2014-01-06</th>\n",
       "      <td>369.0</td>\n",
       "      <td>368.3</td>\n",
       "      <td>369.7</td>\n",
       "      <td>353.9</td>\n",
       "    </tr>\n",
       "    <tr>\n",
       "      <th>2014-01-13</th>\n",
       "      <td>364.4</td>\n",
       "      <td>366.1</td>\n",
       "      <td>362.9</td>\n",
       "      <td>349.6</td>\n",
       "    </tr>\n",
       "    <tr>\n",
       "      <th>2014-01-20</th>\n",
       "      <td>361.4</td>\n",
       "      <td>364.3</td>\n",
       "      <td>358.8</td>\n",
       "      <td>344.5</td>\n",
       "    </tr>\n",
       "    <tr>\n",
       "      <th>2014-01-27</th>\n",
       "      <td>359.6</td>\n",
       "      <td>362.5</td>\n",
       "      <td>356.9</td>\n",
       "      <td>342.8</td>\n",
       "    </tr>\n",
       "    <tr>\n",
       "      <th>2014-02-03</th>\n",
       "      <td>358.8</td>\n",
       "      <td>361.9</td>\n",
       "      <td>356.1</td>\n",
       "      <td>341.5</td>\n",
       "    </tr>\n",
       "  </tbody>\n",
       "</table>\n",
       "</div>"
      ],
      "text/plain": [
       "            Statewide  Upstate  Downstate    NYC\n",
       "2014-01-06      369.0    368.3      369.7  353.9\n",
       "2014-01-13      364.4    366.1      362.9  349.6\n",
       "2014-01-20      361.4    364.3      358.8  344.5\n",
       "2014-01-27      359.6    362.5      356.9  342.8\n",
       "2014-02-03      358.8    361.9      356.1  341.5"
      ]
     },
     "execution_count": 33,
     "metadata": {},
     "output_type": "execute_result"
    }
   ],
   "source": [
    "print( gas_df.index )\n",
    "gas_df.head()"
   ]
  },
  {
   "cell_type": "markdown",
   "metadata": {},
   "source": [
    "# Combine Data"
   ]
  },
  {
   "cell_type": "code",
   "execution_count": 37,
   "metadata": {},
   "outputs": [
    {
     "data": {
      "text/html": [
       "<div>\n",
       "<style scoped>\n",
       "    .dataframe tbody tr th:only-of-type {\n",
       "        vertical-align: middle;\n",
       "    }\n",
       "\n",
       "    .dataframe tbody tr th {\n",
       "        vertical-align: top;\n",
       "    }\n",
       "\n",
       "    .dataframe thead th {\n",
       "        text-align: right;\n",
       "    }\n",
       "</style>\n",
       "<table border=\"1\" class=\"dataframe\">\n",
       "  <thead>\n",
       "    <tr style=\"text-align: right;\">\n",
       "      <th></th>\n",
       "      <th>Total Rides</th>\n",
       "      <th>7-Day Average Rides</th>\n",
       "      <th>NYC</th>\n",
       "    </tr>\n",
       "  </thead>\n",
       "  <tbody>\n",
       "    <tr>\n",
       "      <th>2014-04-07</th>\n",
       "      <td>19550</td>\n",
       "      <td>18850.142857</td>\n",
       "      <td>359.4</td>\n",
       "    </tr>\n",
       "    <tr>\n",
       "      <th>2014-04-14</th>\n",
       "      <td>12674</td>\n",
       "      <td>16635.428571</td>\n",
       "      <td>360.3</td>\n",
       "    </tr>\n",
       "    <tr>\n",
       "      <th>2014-04-21</th>\n",
       "      <td>13162</td>\n",
       "      <td>16598.000000</td>\n",
       "      <td>368.1</td>\n",
       "    </tr>\n",
       "    <tr>\n",
       "      <th>2014-04-28</th>\n",
       "      <td>15475</td>\n",
       "      <td>20120.714286</td>\n",
       "      <td>377.5</td>\n",
       "    </tr>\n",
       "    <tr>\n",
       "      <th>2014-05-05</th>\n",
       "      <td>17859</td>\n",
       "      <td>22958.142857</td>\n",
       "      <td>375.3</td>\n",
       "    </tr>\n",
       "  </tbody>\n",
       "</table>\n",
       "</div>"
      ],
      "text/plain": [
       "            Total Rides  7-Day Average Rides    NYC\n",
       "2014-04-07        19550         18850.142857  359.4\n",
       "2014-04-14        12674         16635.428571  360.3\n",
       "2014-04-21        13162         16598.000000  368.1\n",
       "2014-04-28        15475         20120.714286  377.5\n",
       "2014-05-05        17859         22958.142857  375.3"
      ]
     },
     "execution_count": 37,
     "metadata": {},
     "output_type": "execute_result"
    }
   ],
   "source": [
    "combined = rides_df.join(gas_df.get('NYC'), how = 'inner')\n",
    "combined.head()"
   ]
  },
  {
   "cell_type": "code",
   "execution_count": 79,
   "metadata": {},
   "outputs": [],
   "source": [
    "combined.to_csv( os.path.join(path_to_data, 'rides_to_gas.csv') )"
   ]
  },
  {
   "cell_type": "code",
   "execution_count": null,
   "metadata": {},
   "outputs": [],
   "source": []
  }
 ],
 "metadata": {
  "kernelspec": {
   "display_name": "Python 3",
   "language": "python",
   "name": "python3"
  },
  "language_info": {
   "codemirror_mode": {
    "name": "ipython",
    "version": 3
   },
   "file_extension": ".py",
   "mimetype": "text/x-python",
   "name": "python",
   "nbconvert_exporter": "python",
   "pygments_lexer": "ipython3",
   "version": "3.8.6"
  }
 },
 "nbformat": 4,
 "nbformat_minor": 4
}
